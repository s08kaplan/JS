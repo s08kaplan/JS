{
  "nbformat": 4,
  "nbformat_minor": 0,
  "metadata": {
    "colab": {
      "provenance": [],
      "authorship_tag": "ABX9TyNkeAwKgOeO0IM3fB+lBmcn",
      "include_colab_link": true
    },
    "kernelspec": {
      "name": "python3",
      "display_name": "Python 3"
    },
    "language_info": {
      "name": "python"
    }
  },
  "cells": [
    {
      "cell_type": "markdown",
      "metadata": {
        "id": "view-in-github",
        "colab_type": "text"
      },
      "source": [
        "<a href=\"https://colab.research.google.com/github/s08kaplan/JS/blob/master/mobile_1.ipynb\" target=\"_parent\"><img src=\"https://colab.research.google.com/assets/colab-badge.svg\" alt=\"Open In Colab\"/></a>"
      ]
    },
    {
      "cell_type": "code",
      "execution_count": null,
      "metadata": {
        "colab": {
          "base_uri": "https://localhost:8080/"
        },
        "id": "vvyIFTLmCEel",
        "outputId": "ea691a31-5650-488b-8d5d-370f04c2566b"
      },
      "outputs": [
        {
          "output_type": "stream",
          "name": "stdout",
          "text": [
            "hello\n",
            "hello\n",
            "hello\n",
            "hello\n",
            "hello\n",
            "hello\n"
          ]
        }
      ],
      "source": [
        "i = 1\n",
        "while i < 10:\n",
        "  print(\"hello\")\n",
        "  if i == 6:\n",
        "   break\n",
        "  i += 1"
      ]
    },
    {
      "cell_type": "code",
      "source": [
        "\n",
        "fruits = [\"apple\", \"banana\", \"cherry\",\"kiwi\"]\n",
        "for x in fruits:\n",
        "  print(x)\n",
        "  if x == \"cherry\":\n",
        "    break"
      ],
      "metadata": {
        "colab": {
          "base_uri": "https://localhost:8080/"
        },
        "id": "-ePRdZS5Cxx7",
        "outputId": "b541b08f-12b4-4ab6-d896-df5f4b8ed83b"
      },
      "execution_count": null,
      "outputs": [
        {
          "output_type": "stream",
          "name": "stdout",
          "text": [
            "apple\n",
            "banana\n",
            "cherry\n"
          ]
        }
      ]
    },
    {
      "cell_type": "code",
      "source": [
        "fruits = [\"apple\", \"banana\", \"cherry\"]\n",
        "for x in fruits:\n",
        "  if x == \"banana\":\n",
        "    continue\n",
        "  print(x)"
      ],
      "metadata": {
        "colab": {
          "base_uri": "https://localhost:8080/"
        },
        "id": "VDfXW6Y8KF8X",
        "outputId": "3be5980f-eb45-469f-8eca-157f014c6ebe"
      },
      "execution_count": null,
      "outputs": [
        {
          "output_type": "stream",
          "name": "stdout",
          "text": [
            "apple\n",
            "cherry\n"
          ]
        }
      ]
    },
    {
      "cell_type": "code",
      "source": [
        "fruits = [\"apple\", \"banana\", \"cherry\"]\n",
        "for x in fruits:\n",
        "  if x == \"banana\":\n",
        "    break\n",
        "  print(x)"
      ],
      "metadata": {
        "colab": {
          "base_uri": "https://localhost:8080/"
        },
        "id": "RWK-YncGKPsl",
        "outputId": "938c0fbd-2a85-42ae-edbb-3001ac2824d9"
      },
      "execution_count": null,
      "outputs": [
        {
          "output_type": "stream",
          "name": "stdout",
          "text": [
            "apple\n"
          ]
        }
      ]
    },
    {
      "cell_type": "code",
      "source": [
        "fruits = [\"apple\", \"banana\", \"cherry\"]\n",
        "for x in fruits:\n",
        "  print(x)\n",
        "  if x == \"banana\":\n",
        "   break"
      ],
      "metadata": {
        "colab": {
          "base_uri": "https://localhost:8080/"
        },
        "id": "MFLuvn8_KUev",
        "outputId": "5e4d634a-b8d6-4a06-f30a-ae36b6f288d4"
      },
      "execution_count": null,
      "outputs": [
        {
          "output_type": "stream",
          "name": "stdout",
          "text": [
            "apple\n",
            "banana\n"
          ]
        }
      ]
    },
    {
      "cell_type": "code",
      "source": [
        "\n",
        "def my_function():\n",
        "  print(\"Hello from a function\")\n",
        "def x():\n",
        "  print(\"hey I'm here\")\n",
        "my_function()\n",
        "x()"
      ],
      "metadata": {
        "colab": {
          "base_uri": "https://localhost:8080/"
        },
        "id": "1mOGJL8wUOC-",
        "outputId": "8d81a87b-c9b9-4dab-d57a-84556218fde6"
      },
      "execution_count": null,
      "outputs": [
        {
          "output_type": "stream",
          "name": "stdout",
          "text": [
            "Hello from a function\n",
            "hey I'm here\n"
          ]
        }
      ]
    },
    {
      "cell_type": "code",
      "source": [
        "\n",
        "r =int(input(\"please enter a number :\"))\n",
        "def my_function(area = 3*r**2):\n",
        "  print(area)\n",
        "\n",
        "my_function()\n",
        "my_function()\n",
        "my_function()\n",
        "my_function()"
      ],
      "metadata": {
        "colab": {
          "base_uri": "https://localhost:8080/"
        },
        "id": "LcrjBHmfW8li",
        "outputId": "66432986-c969-4ce1-b273-2047572e5765"
      },
      "execution_count": null,
      "outputs": [
        {
          "output_type": "stream",
          "name": "stdout",
          "text": [
            "please enter a number :5\n",
            "75\n",
            "75\n",
            "75\n",
            "75\n"
          ]
        }
      ]
    },
    {
      "cell_type": "code",
      "source": [
        "\n",
        "def my_function(food):\n",
        "  for x in food:\n",
        "    print(x)\n",
        "\n",
        "fruits = [\"apple\", \"banana\", \"cherry\"]\n",
        "vegetables = [\"cucumber\",\"tomato\",\"pepper\"]\n",
        "my_function(fruits)\n",
        "my_function(vegetables)"
      ],
      "metadata": {
        "colab": {
          "base_uri": "https://localhost:8080/"
        },
        "id": "CgigfQ9HX-9E",
        "outputId": "693c9bca-8137-4c41-ceb3-78d7d078521c"
      },
      "execution_count": null,
      "outputs": [
        {
          "output_type": "stream",
          "name": "stdout",
          "text": [
            "apple\n",
            "banana\n",
            "cherry\n",
            "cucumber\n",
            "tomato\n",
            "pepper\n"
          ]
        }
      ]
    },
    {
      "cell_type": "code",
      "source": [],
      "metadata": {
        "id": "FDkB-C08FAVv"
      },
      "execution_count": null,
      "outputs": []
    },
    {
      "cell_type": "code",
      "source": [
        "\n",
        "def my_function(x):\n",
        "  return 5 * x\n",
        "\n",
        "print(my_function(3))\n",
        "print(my_function(5))\n",
        "print(my_function(9))"
      ],
      "metadata": {
        "colab": {
          "base_uri": "https://localhost:8080/"
        },
        "id": "BLjztXTZYjo5",
        "outputId": "6ecad973-f0aa-4192-a4d8-3cee23d35890"
      },
      "execution_count": null,
      "outputs": [
        {
          "output_type": "stream",
          "name": "stdout",
          "text": [
            "15\n",
            "25\n",
            "45\n"
          ]
        }
      ]
    },
    {
      "cell_type": "code",
      "source": [
        "x = lambda a,b,c : 2 * (a + b) + (b * c )\n",
        "print(x(5,7,3))"
      ],
      "metadata": {
        "colab": {
          "base_uri": "https://localhost:8080/"
        },
        "id": "8pF0SE_aFC3D",
        "outputId": "d4d08c4e-efeb-4b88-c9f8-9bd286d369ec"
      },
      "execution_count": null,
      "outputs": [
        {
          "output_type": "stream",
          "name": "stdout",
          "text": [
            "45\n"
          ]
        }
      ]
    },
    {
      "cell_type": "code",
      "source": [
        "\n",
        "def myfunc(n):\n",
        "  return lambda a : a * n\n",
        "\n",
        "new = myfunc(2)\n",
        "\n",
        "print(new(17))"
      ],
      "metadata": {
        "colab": {
          "base_uri": "https://localhost:8080/"
        },
        "id": "d_aEdVdTGCeV",
        "outputId": "f20b4772-7018-4551-c7b1-db853cf290d6"
      },
      "execution_count": null,
      "outputs": [
        {
          "output_type": "stream",
          "name": "stdout",
          "text": [
            "34\n"
          ]
        }
      ]
    },
    {
      "cell_type": "code",
      "source": [
        "name = 'mahmud'\n",
        "same = 'yildiziparlayan'\n",
        "age = 40\n",
        "message = ' welcome to learn python '\n",
        "print(f\"{}"
      ],
      "metadata": {
        "id": "JXKHp2YcJMBD"
      },
      "execution_count": null,
      "outputs": []
    },
    {
      "cell_type": "code",
      "source": [
        "def myfunc(n):\n",
        "  return lambda a : (a * n)/2 +10\n",
        "my_tripler = myfunc(3)\n",
        "my_operation = myfunc(6)\n",
        "print(my_tripler(11))\n",
        "print(my_operation(20))"
      ],
      "metadata": {
        "colab": {
          "base_uri": "https://localhost:8080/"
        },
        "id": "EHLsbVr2BsFi",
        "outputId": "0f1ca175-882c-4bc6-d4ba-1cfd82b50d9d"
      },
      "execution_count": null,
      "outputs": [
        {
          "output_type": "stream",
          "name": "stdout",
          "text": [
            "26.5\n",
            "70.0\n"
          ]
        }
      ]
    },
    {
      "cell_type": "code",
      "source": [
        "class Student():\n",
        "      def __init__(self,name,lname,note):\n",
        "          self.name=name\n",
        "          self.lname=lname\n",
        "          self.note=note\n",
        "      def successful(self):\n",
        "          return f\"{self.name} {self.lname} is the  most successful student with grade {self.note}\"\n",
        "\n",
        "success= Student('Ali','Guzel',95)\n",
        "print(success.successful())"
      ],
      "metadata": {
        "id": "U9-yDlkEUOD-",
        "colab": {
          "base_uri": "https://localhost:8080/"
        },
        "outputId": "a5afd417-696d-44bf-91d1-1383384c1f6d"
      },
      "execution_count": null,
      "outputs": [
        {
          "output_type": "stream",
          "name": "stdout",
          "text": [
            "Ali Guzel is the  most successful student with grade 95\n"
          ]
        }
      ]
    },
    {
      "cell_type": "code",
      "source": [
        "\n",
        "class Factory():\n",
        "\n",
        "     def __init__(self,fname, lname, age, department):\n",
        "\n",
        "         self.fname = fname\n",
        "\n",
        "         self.lname = lname\n",
        "\n",
        "         self.age  = age\n",
        "\n",
        "         self.department = department\n",
        "\n",
        "     def welcome(self):\n",
        "\n",
        "         return f\"welcome to our Factory {self.fname} {self.lname} , you are {self.age} years old and you will work at {self.department}\"\n",
        "\n",
        "p =Factory(\"Ali\", \"Guzel\", 38, \"shipment\")\n",
        "\n",
        "print(p.welcome())"
      ],
      "metadata": {
        "colab": {
          "base_uri": "https://localhost:8080/"
        },
        "id": "lk9i-QZ9bL7U",
        "outputId": "33033d1f-a35c-4025-c63f-cc5c95bcdf2f"
      },
      "execution_count": null,
      "outputs": [
        {
          "output_type": "stream",
          "name": "stdout",
          "text": [
            "welcome to our Factory Ali Guzel , you are 38 years old and you will work at shipment\n"
          ]
        }
      ]
    },
    {
      "cell_type": "code",
      "source": [
        "\n",
        "class Numbers():\n",
        "\n",
        "      def __init__(self, x, y, z):\n",
        "\n",
        "          self.x = x\n",
        "\n",
        "          self.y = y\n",
        "\n",
        "          self.z = z\n",
        "\n",
        "      def average(self):\n",
        "\n",
        "         return (self.x + self.y + self.z)/3\n",
        "\n",
        "      def note(self):\n",
        "\n",
        "          return f\"The average of your numbers : {self.x}, {self.y}, {self.z} is \"\n",
        "\n",
        "p = Numbers(5,6,10)\n",
        "\n",
        "print(p.note())\n",
        "\n",
        "print(p.average())"
      ],
      "metadata": {
        "colab": {
          "base_uri": "https://localhost:8080/"
        },
        "id": "0sk5NzYAj6Bz",
        "outputId": "9457a762-5070-412c-aa79-7d13e3b5420c"
      },
      "execution_count": null,
      "outputs": [
        {
          "output_type": "stream",
          "name": "stdout",
          "text": [
            "The average of your numbers : 5, 6, 10 is \n",
            "7.0\n"
          ]
        }
      ]
    },
    {
      "cell_type": "code",
      "source": [
        "\n",
        "class Car():\n",
        "\n",
        "    def __init__(self, name, model, color, price, speed):\n",
        "\n",
        "        self.name = name\n",
        "\n",
        "        self.model = model\n",
        "\n",
        "        self.color = color\n",
        "\n",
        "        self.price = price\n",
        "\n",
        "        self.speed = speed\n",
        "\n",
        "    def property(self):\n",
        "\n",
        "      return f\"Your {self.model} model {self.color}  {self.name} costs {self.price} and it has maximum {self.speed} \"\n",
        "\n",
        "x = Car(\"Mercedes\",2020,\"blue\",\"$30k\",\"290 km/h\")\n",
        "\n",
        "print(x.property())"
      ],
      "metadata": {
        "id": "lmkVwClfrcsF",
        "outputId": "a2bd6b0a-2819-4194-f648-87ae7fbb6242",
        "colab": {
          "base_uri": "https://localhost:8080/"
        }
      },
      "execution_count": null,
      "outputs": [
        {
          "output_type": "stream",
          "name": "stdout",
          "text": [
            "Your 2020 model blue  Mercedes costs $30k and it has maximum 290 km/h \n"
          ]
        }
      ]
    },
    {
      "cell_type": "code",
      "source": [
        "class Person():\n",
        "     def __init__(self, fname, lname, byear, nationality):\n",
        "         self.fname = fname\n",
        "         self.lname = lname\n",
        "         self.byear = byear\n",
        "         self.nationality = nationality\n",
        "     def inf(self):\n",
        "         return f\"Hello {self.fname} {self.lname} your birthday year is {self.byear} and your nationality belongs to {self.nationality}\"\n",
        "\n",
        "person = Person(\"Salih\", \"Star\",1985, \"Turkey\")\n",
        "print(person.inf())"
      ],
      "metadata": {
        "colab": {
          "base_uri": "https://localhost:8080/"
        },
        "id": "9xDWOtnSlOXY",
        "outputId": "6f72b4ff-17f7-4a57-a7b3-00dc88331420"
      },
      "execution_count": 7,
      "outputs": [
        {
          "output_type": "stream",
          "name": "stdout",
          "text": [
            "Hello Salih Star your birthday year is 1985 and your nationality belongs to Turkey\n"
          ]
        }
      ]
    }
  ]
}